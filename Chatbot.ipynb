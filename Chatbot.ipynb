{
  "nbformat": 4,
  "nbformat_minor": 0,
  "metadata": {
    "colab": {
      "provenance": []
    },
    "kernelspec": {
      "name": "python3",
      "display_name": "Python 3"
    },
    "language_info": {
      "name": "python"
    }
  },
  "cells": [
    {
      "cell_type": "code",
      "execution_count": 14,
      "metadata": {
        "colab": {
          "base_uri": "https://localhost:8080/"
        },
        "id": "Pgdlu05bneQi",
        "outputId": "73aca047-95e5-4f30-9e37-5410a69108a8"
      },
      "outputs": [
        {
          "output_type": "stream",
          "name": "stdout",
          "text": [
            "Requirement already satisfied: nltk in /usr/local/lib/python3.10/dist-packages (3.8.1)\n",
            "Requirement already satisfied: click in /usr/local/lib/python3.10/dist-packages (from nltk) (8.1.6)\n",
            "Requirement already satisfied: joblib in /usr/local/lib/python3.10/dist-packages (from nltk) (1.3.1)\n",
            "Requirement already satisfied: regex>=2021.8.3 in /usr/local/lib/python3.10/dist-packages (from nltk) (2022.10.31)\n",
            "Requirement already satisfied: tqdm in /usr/local/lib/python3.10/dist-packages (from nltk) (4.65.0)\n"
          ]
        }
      ],
      "source": [
        "pip install nltk\n"
      ]
    },
    {
      "cell_type": "code",
      "source": [
        "import nltk\n",
        "import random\n",
        "from nltk.corpus import wordnet\n",
        "from nltk.tokenize import word_tokenize\n",
        "from nltk.stem import WordNetLemmatizer\n"
      ],
      "metadata": {
        "id": "Vyai9OM-ngdF"
      },
      "execution_count": 15,
      "outputs": []
    },
    {
      "cell_type": "code",
      "source": [
        "nltk.download('punkt')\n",
        "nltk.download('wordnet')\n",
        "\n"
      ],
      "metadata": {
        "colab": {
          "base_uri": "https://localhost:8080/"
        },
        "id": "1xzPcG1PqGb4",
        "outputId": "a1a34084-e7d2-41c0-c1cf-fca0a6c1ed1b"
      },
      "execution_count": 16,
      "outputs": [
        {
          "output_type": "stream",
          "name": "stderr",
          "text": [
            "[nltk_data] Downloading package punkt to /root/nltk_data...\n",
            "[nltk_data]   Package punkt is already up-to-date!\n",
            "[nltk_data] Downloading package wordnet to /root/nltk_data...\n",
            "[nltk_data]   Package wordnet is already up-to-date!\n"
          ]
        },
        {
          "output_type": "execute_result",
          "data": {
            "text/plain": [
              "True"
            ]
          },
          "metadata": {},
          "execution_count": 16
        }
      ]
    },
    {
      "cell_type": "code",
      "source": [
        "patterns = [\n",
        "    {\n",
        "        \"pattern\": r\"hi|hello|hey\",\n",
        "        \"responses\": [\"Hello!\", \"Hi there!\", \"Hey!\", \"Hi! How can I help you today?\"]\n",
        "    },\n",
        "    {\n",
        "        \"pattern\": r\"how are you|how's it going\",\n",
        "        \"responses\": [\"I'm doing well, thank you!\", \"I'm good, thanks for asking!\"]\n",
        "    },\n",
        "    {\n",
        "        \"pattern\": r\"what is your name|who are you\",\n",
        "        \"responses\": [\"I am a chatbot!\", \"I am just a chatbot.\", \"My name is Chatbot.\"]\n",
        "    },\n",
        "    {\n",
        "        \"pattern\": r\"what are you doing\",\n",
        "        \"responses\": [\"I am chatbot I have nothing pyhsical activity!\"]\n",
        "    },\n",
        "    {\n",
        "        \"pattern\": r\"bye|goodbye|see you later\",\n",
        "        \"responses\": [\"Goodbye!\", \"Take care!\", \"See you later!\"]\n",
        "    },\n",
        "    {\n",
        "        \"pattern\": r\"(.*) thank you (.*)\",\n",
        "        \"responses\": [\"You're welcome!\", \"No problem!\"]\n",
        "    },\n",
        "    # Add more patterns and responses as needed.\n",
        "]\n"
      ],
      "metadata": {
        "id": "ZBt-j8AhqK5d"
      },
      "execution_count": 19,
      "outputs": []
    },
    {
      "cell_type": "code",
      "source": [
        "\n",
        "def chatbot_response(user_input):\n",
        "    for pattern_data in patterns:\n",
        "        pattern = pattern_data[\"pattern\"]\n",
        "        responses = pattern_data[\"responses\"]\n",
        "        if nltk.re.search(pattern, user_input):\n",
        "            response = random.choice(responses)\n",
        "            return response\n",
        "    return \"I'm sorry, I didn't quite get that. Can you please rephrase?\"\n",
        "\n",
        "# Test the chatbot\n",
        "while True:\n",
        "    user_input = input(\"You: \")\n",
        "    if user_input.lower() == 'exit':\n",
        "        break\n",
        "    response = chatbot_response(user_input.lower())\n",
        "    print(\"Chatbot:\", response)\n"
      ],
      "metadata": {
        "colab": {
          "base_uri": "https://localhost:8080/"
        },
        "id": "u_WL-GkzqRV3",
        "outputId": "5138ad61-5293-49a2-b0cb-05ae82779967"
      },
      "execution_count": 22,
      "outputs": [
        {
          "name": "stdout",
          "output_type": "stream",
          "text": [
            "You: hi\n",
            "Chatbot: Hey!\n",
            "You: how are you\n",
            "Chatbot: I'm doing well, thank you!\n",
            "You: what are you doing\n",
            "Chatbot: I am chatbot I have nothing pyhsical activity!\n",
            "You: bye\n",
            "Chatbot: Goodbye!\n",
            "You: exit\n"
          ]
        }
      ]
    }
  ]
}